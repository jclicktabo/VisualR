{
 "cells": [
  {
   "cell_type": "markdown",
   "metadata": {},
   "source": [
    "# Welcome to Jupyter!"
   ]
  },
  {
   "cell_type": "code",
   "execution_count": 3,
   "metadata": {
    "scrolled": true
   },
   "outputs": [
    {
     "name": "stdout",
     "output_type": "stream",
     "text": [
      "Requirement already up-to-date: ipython in /srv/conda/lib/python3.7/site-packages (7.4.0)\n",
      "Collecting jupyter\n",
      "  Downloading https://files.pythonhosted.org/packages/83/df/0f5dd132200728a86190397e1ea87cd76244e42d39ec5e88efd25b2abd7e/jupyter-1.0.0-py2.py3-none-any.whl\n",
      "Requirement already satisfied, skipping upgrade: setuptools>=18.5 in /srv/conda/lib/python3.7/site-packages (from ipython) (40.8.0)\n",
      "Requirement already satisfied, skipping upgrade: jedi>=0.10 in /srv/conda/lib/python3.7/site-packages (from ipython) (0.13.3)\n",
      "Requirement already satisfied, skipping upgrade: decorator in /srv/conda/lib/python3.7/site-packages (from ipython) (4.4.0)\n",
      "Requirement already satisfied, skipping upgrade: pickleshare in /srv/conda/lib/python3.7/site-packages (from ipython) (0.7.5)\n",
      "Requirement already satisfied, skipping upgrade: traitlets>=4.2 in /srv/conda/lib/python3.7/site-packages (from ipython) (4.3.2)\n",
      "Requirement already satisfied, skipping upgrade: prompt_toolkit<2.1.0,>=2.0.0 in /srv/conda/lib/python3.7/site-packages (from ipython) (2.0.9)\n",
      "Requirement already satisfied, skipping upgrade: pygments in /srv/conda/lib/python3.7/site-packages (from ipython) (2.3.1)\n",
      "Requirement already satisfied, skipping upgrade: backcall in /srv/conda/lib/python3.7/site-packages (from ipython) (0.1.0)\n",
      "Requirement already satisfied, skipping upgrade: pexpect in /srv/conda/lib/python3.7/site-packages (from ipython) (4.6.0)\n",
      "Collecting qtconsole (from jupyter)\n",
      "\u001b[?25l  Downloading https://files.pythonhosted.org/packages/e0/7a/8aefbc0ed078dec7951ac9a06dcd1869243ecd7bcbce26fa47bf5e469a8f/qtconsole-4.4.3-py2.py3-none-any.whl (113kB)\n",
      "\u001b[K    100% |████████████████████████████████| 122kB 4.5MB/s ta 0:00:01\n",
      "\u001b[?25hRequirement already satisfied, skipping upgrade: notebook in /srv/conda/lib/python3.7/site-packages (from jupyter) (5.7.6)\n",
      "Requirement already satisfied, skipping upgrade: ipywidgets in /srv/conda/lib/python3.7/site-packages (from jupyter) (7.4.2)\n",
      "Requirement already satisfied, skipping upgrade: nbconvert in /srv/conda/lib/python3.7/site-packages (from jupyter) (5.4.1)\n",
      "Collecting jupyter-console (from jupyter)\n",
      "  Downloading https://files.pythonhosted.org/packages/cb/ee/6374ae8c21b7d0847f9c3722dcdfac986b8e54fa9ad9ea66e1eb6320d2b8/jupyter_console-6.0.0-py2.py3-none-any.whl\n",
      "Requirement already satisfied, skipping upgrade: ipykernel in /srv/conda/lib/python3.7/site-packages (from jupyter) (5.1.0)\n",
      "Requirement already satisfied, skipping upgrade: parso>=0.3.0 in /srv/conda/lib/python3.7/site-packages (from jedi>=0.10->ipython) (0.3.4)\n",
      "Requirement already satisfied, skipping upgrade: ipython_genutils in /srv/conda/lib/python3.7/site-packages (from traitlets>=4.2->ipython) (0.2.0)\n",
      "Requirement already satisfied, skipping upgrade: six in /srv/conda/lib/python3.7/site-packages (from traitlets>=4.2->ipython) (1.12.0)\n",
      "Requirement already satisfied, skipping upgrade: wcwidth in /srv/conda/lib/python3.7/site-packages (from prompt_toolkit<2.1.0,>=2.0.0->ipython) (0.1.7)\n",
      "Requirement already satisfied, skipping upgrade: ptyprocess>=0.5 in /srv/conda/lib/python3.7/site-packages (from pexpect->ipython) (0.6.0)\n",
      "Requirement already satisfied, skipping upgrade: jupyter-client>=4.1 in /srv/conda/lib/python3.7/site-packages (from qtconsole->jupyter) (5.2.4)\n",
      "Requirement already satisfied, skipping upgrade: jupyter-core in /srv/conda/lib/python3.7/site-packages (from qtconsole->jupyter) (4.4.0)\n",
      "Requirement already satisfied, skipping upgrade: Send2Trash in /srv/conda/lib/python3.7/site-packages (from notebook->jupyter) (1.5.0)\n",
      "Requirement already satisfied, skipping upgrade: pyzmq>=17 in /srv/conda/lib/python3.7/site-packages (from notebook->jupyter) (18.0.1)\n",
      "Requirement already satisfied, skipping upgrade: prometheus-client in /srv/conda/lib/python3.7/site-packages (from notebook->jupyter) (0.6.0)\n",
      "Requirement already satisfied, skipping upgrade: tornado<7,>=4.1 in /srv/conda/lib/python3.7/site-packages (from notebook->jupyter) (6.0.1)\n",
      "Requirement already satisfied, skipping upgrade: nbformat in /srv/conda/lib/python3.7/site-packages (from notebook->jupyter) (4.4.0)\n",
      "Requirement already satisfied, skipping upgrade: terminado>=0.8.1 in /srv/conda/lib/python3.7/site-packages (from notebook->jupyter) (0.8.1)\n",
      "Requirement already satisfied, skipping upgrade: jinja2 in /srv/conda/lib/python3.7/site-packages (from notebook->jupyter) (2.10)\n",
      "Requirement already satisfied, skipping upgrade: widgetsnbextension~=3.4.0 in /srv/conda/lib/python3.7/site-packages (from ipywidgets->jupyter) (3.4.2)\n",
      "Requirement already satisfied, skipping upgrade: mistune>=0.8.1 in /srv/conda/lib/python3.7/site-packages (from nbconvert->jupyter) (0.8.4)\n",
      "Requirement already satisfied, skipping upgrade: entrypoints>=0.2.2 in /srv/conda/lib/python3.7/site-packages (from nbconvert->jupyter) (0.3)\n",
      "Requirement already satisfied, skipping upgrade: bleach in /srv/conda/lib/python3.7/site-packages (from nbconvert->jupyter) (3.1.0)\n",
      "Requirement already satisfied, skipping upgrade: pandocfilters>=1.4.1 in /srv/conda/lib/python3.7/site-packages (from nbconvert->jupyter) (1.4.2)\n",
      "Requirement already satisfied, skipping upgrade: testpath in /srv/conda/lib/python3.7/site-packages (from nbconvert->jupyter) (0.4.2)\n",
      "Requirement already satisfied, skipping upgrade: defusedxml in /srv/conda/lib/python3.7/site-packages (from nbconvert->jupyter) (0.5.0)\n",
      "Requirement already satisfied, skipping upgrade: python-dateutil>=2.1 in /srv/conda/lib/python3.7/site-packages (from jupyter-client>=4.1->qtconsole->jupyter) (2.8.0)\n",
      "Requirement already satisfied, skipping upgrade: jsonschema!=2.5.0,>=2.4 in /srv/conda/lib/python3.7/site-packages (from nbformat->notebook->jupyter) (3.0.1)\n",
      "Requirement already satisfied, skipping upgrade: MarkupSafe>=0.23 in /srv/conda/lib/python3.7/site-packages (from jinja2->notebook->jupyter) (1.1.1)\n",
      "Requirement already satisfied, skipping upgrade: webencodings in /srv/conda/lib/python3.7/site-packages (from bleach->nbconvert->jupyter) (0.5.1)\n",
      "Requirement already satisfied, skipping upgrade: attrs>=17.4.0 in /srv/conda/lib/python3.7/site-packages (from jsonschema!=2.5.0,>=2.4->nbformat->notebook->jupyter) (19.1.0)\n",
      "Requirement already satisfied, skipping upgrade: pyrsistent>=0.14.0 in /srv/conda/lib/python3.7/site-packages (from jsonschema!=2.5.0,>=2.4->nbformat->notebook->jupyter) (0.14.11)\n",
      "Installing collected packages: qtconsole, jupyter-console, jupyter\n",
      "Successfully installed jupyter-1.0.0 jupyter-console-6.0.0 qtconsole-4.4.3\n",
      "Note: you may need to restart the kernel to use updated packages.\n"
     ]
    }
   ],
   "source": [
    "pip install --upgrade ipython jupyter\n"
   ]
  },
  {
   "cell_type": "code",
   "execution_count": 4,
   "metadata": {
    "collapsed": true
   },
   "outputs": [
    {
     "name": "stdout",
     "output_type": "stream",
     "text": [
      "Collecting plotly\n",
      "\u001b[?25l  Downloading https://files.pythonhosted.org/packages/37/25/32fb6f58bfc6f462d61bf0de95e8c0bbf07bfaba11ed0ecb81c0590f3584/plotly-3.7.1-py2.py3-none-any.whl (35.7MB)\n",
      "\u001b[K    100% |████████████████████████████████| 35.7MB 629kB/s eta 0:00:01\n",
      "\u001b[?25hRequirement already satisfied: requests in /srv/conda/lib/python3.7/site-packages (from plotly) (2.21.0)\n",
      "Requirement already satisfied: nbformat>=4.2 in /srv/conda/lib/python3.7/site-packages (from plotly) (4.4.0)\n",
      "Requirement already satisfied: decorator>=4.0.6 in /srv/conda/lib/python3.7/site-packages (from plotly) (4.4.0)\n",
      "Collecting retrying>=1.3.3 (from plotly)\n",
      "  Downloading https://files.pythonhosted.org/packages/44/ef/beae4b4ef80902f22e3af073397f079c96969c69b2c7d52a57ea9ae61c9d/retrying-1.3.3.tar.gz\n",
      "Requirement already satisfied: pytz in /srv/conda/lib/python3.7/site-packages (from plotly) (2018.9)\n",
      "Requirement already satisfied: six in /srv/conda/lib/python3.7/site-packages (from plotly) (1.12.0)\n",
      "Requirement already satisfied: urllib3<1.25,>=1.21.1 in /srv/conda/lib/python3.7/site-packages (from requests->plotly) (1.24.1)\n",
      "Requirement already satisfied: idna<2.9,>=2.5 in /srv/conda/lib/python3.7/site-packages (from requests->plotly) (2.8)\n",
      "Requirement already satisfied: certifi>=2017.4.17 in /srv/conda/lib/python3.7/site-packages (from requests->plotly) (2019.3.9)\n",
      "Requirement already satisfied: chardet<3.1.0,>=3.0.2 in /srv/conda/lib/python3.7/site-packages (from requests->plotly) (3.0.4)\n",
      "Requirement already satisfied: ipython_genutils in /srv/conda/lib/python3.7/site-packages (from nbformat>=4.2->plotly) (0.2.0)\n",
      "Requirement already satisfied: traitlets>=4.1 in /srv/conda/lib/python3.7/site-packages (from nbformat>=4.2->plotly) (4.3.2)\n",
      "Requirement already satisfied: jsonschema!=2.5.0,>=2.4 in /srv/conda/lib/python3.7/site-packages (from nbformat>=4.2->plotly) (3.0.1)\n",
      "Requirement already satisfied: jupyter_core in /srv/conda/lib/python3.7/site-packages (from nbformat>=4.2->plotly) (4.4.0)\n",
      "Requirement already satisfied: attrs>=17.4.0 in /srv/conda/lib/python3.7/site-packages (from jsonschema!=2.5.0,>=2.4->nbformat>=4.2->plotly) (19.1.0)\n",
      "Requirement already satisfied: pyrsistent>=0.14.0 in /srv/conda/lib/python3.7/site-packages (from jsonschema!=2.5.0,>=2.4->nbformat>=4.2->plotly) (0.14.11)\n",
      "Requirement already satisfied: setuptools in /srv/conda/lib/python3.7/site-packages (from jsonschema!=2.5.0,>=2.4->nbformat>=4.2->plotly) (40.8.0)\n",
      "Building wheels for collected packages: retrying\n",
      "  Building wheel for retrying (setup.py) ... \u001b[?25ldone\n",
      "\u001b[?25h  Stored in directory: /home/jovyan/.cache/pip/wheels/d7/a9/33/acc7b709e2a35caa7d4cae442f6fe6fbf2c43f80823d46460c\n",
      "Successfully built retrying\n",
      "Installing collected packages: retrying, plotly\n",
      "Successfully installed plotly-3.7.1 retrying-1.3.3\n",
      "Note: you may need to restart the kernel to use updated packages.\n"
     ]
    }
   ],
   "source": [
    "pip install plotly\n"
   ]
  },
  {
   "cell_type": "code",
   "execution_count": 5,
   "metadata": {
    "collapsed": true
   },
   "outputs": [
    {
     "name": "stdout",
     "output_type": "stream",
     "text": [
      "Collecting dash==0.39.0\n",
      "\u001b[?25l  Downloading https://files.pythonhosted.org/packages/38/c0/353ba9f56f171389f0b4985f0481805219fc1921d651586c51345b89c1ea/dash-0.39.0.tar.gz (40kB)\n",
      "\u001b[K    100% |████████████████████████████████| 40kB 3.8MB/s ta 0:00:011\n",
      "\u001b[?25hCollecting Flask>=0.12 (from dash==0.39.0)\n",
      "\u001b[?25l  Downloading https://files.pythonhosted.org/packages/7f/e7/08578774ed4536d3242b14dacb4696386634607af824ea997202cd0edb4b/Flask-1.0.2-py2.py3-none-any.whl (91kB)\n",
      "\u001b[K    100% |████████████████████████████████| 92kB 7.4MB/s ta 0:00:011\n",
      "\u001b[?25hCollecting flask-compress (from dash==0.39.0)\n",
      "  Downloading https://files.pythonhosted.org/packages/0e/2a/378bd072928f6d92fd8c417d66b00c757dc361c0405a46a0134de6fd323d/Flask-Compress-1.4.0.tar.gz\n",
      "Requirement already satisfied: plotly in /srv/conda/lib/python3.7/site-packages (from dash==0.39.0) (3.7.1)\n",
      "Collecting dash_renderer==0.20.0 (from dash==0.39.0)\n",
      "\u001b[?25l  Downloading https://files.pythonhosted.org/packages/c4/dd/f686321d054bb1e145d3a7d1f6600516de535b0d597bcf7701dbb96b1262/dash_renderer-0.20.0.tar.gz (920kB)\n",
      "\u001b[K    100% |████████████████████████████████| 921kB 12.0MB/s ta 0:00:01\n",
      "\u001b[?25hCollecting dash-core-components==0.44.0 (from dash==0.39.0)\n",
      "\u001b[?25l  Downloading https://files.pythonhosted.org/packages/07/8b/e7193b60288f62c6c40da7d3fdbd01ccdc6752dbf25e9ef60912a5948938/dash_core_components-0.44.0.tar.gz (4.2MB)\n",
      "\u001b[K    100% |████████████████████████████████| 4.2MB 4.8MB/s eta 0:00:01\n",
      "\u001b[?25hCollecting dash-html-components==0.14.0 (from dash==0.39.0)\n",
      "\u001b[?25l  Downloading https://files.pythonhosted.org/packages/08/1f/943c0f90d957fdff6c5968ea80694b2959d0b0ec959be17a1478e3c97e5a/dash_html_components-0.14.0.tar.gz (537kB)\n",
      "\u001b[K    100% |████████████████████████████████| 542kB 19.4MB/s ta 0:00:01\n",
      "\u001b[?25hCollecting dash-table==3.6.0 (from dash==0.39.0)\n",
      "\u001b[?25l  Downloading https://files.pythonhosted.org/packages/a3/3a/eae584bb7eccdf93d2931c4ebf43e55937cf22d51ad63551241fc83d68fc/dash_table-3.6.0.tar.gz (468kB)\n",
      "\u001b[K    100% |████████████████████████████████| 471kB 18.7MB/s ta 0:00:01\n",
      "\u001b[?25hCollecting Werkzeug>=0.14 (from Flask>=0.12->dash==0.39.0)\n",
      "\u001b[?25l  Downloading https://files.pythonhosted.org/packages/18/79/84f02539cc181cdbf5ff5a41b9f52cae870b6f632767e43ba6ac70132e92/Werkzeug-0.15.2-py2.py3-none-any.whl (328kB)\n",
      "\u001b[K    100% |████████████████████████████████| 337kB 22.2MB/s ta 0:00:01\n",
      "\u001b[?25hRequirement already satisfied: Jinja2>=2.10 in /srv/conda/lib/python3.7/site-packages (from Flask>=0.12->dash==0.39.0) (2.10)\n",
      "Collecting itsdangerous>=0.24 (from Flask>=0.12->dash==0.39.0)\n",
      "  Downloading https://files.pythonhosted.org/packages/76/ae/44b03b253d6fade317f32c24d100b3b35c2239807046a4c953c7b89fa49e/itsdangerous-1.1.0-py2.py3-none-any.whl\n",
      "Collecting click>=5.1 (from Flask>=0.12->dash==0.39.0)\n",
      "\u001b[?25l  Downloading https://files.pythonhosted.org/packages/fa/37/45185cb5abbc30d7257104c434fe0b07e5a195a6847506c074527aa599ec/Click-7.0-py2.py3-none-any.whl (81kB)\n",
      "\u001b[K    100% |████████████████████████████████| 81kB 21.5MB/s ta 0:00:01\n",
      "\u001b[?25hRequirement already satisfied: six in /srv/conda/lib/python3.7/site-packages (from plotly->dash==0.39.0) (1.12.0)\n",
      "Requirement already satisfied: decorator>=4.0.6 in /srv/conda/lib/python3.7/site-packages (from plotly->dash==0.39.0) (4.4.0)\n",
      "Requirement already satisfied: pytz in /srv/conda/lib/python3.7/site-packages (from plotly->dash==0.39.0) (2018.9)\n",
      "Requirement already satisfied: retrying>=1.3.3 in /srv/conda/lib/python3.7/site-packages (from plotly->dash==0.39.0) (1.3.3)\n",
      "Requirement already satisfied: nbformat>=4.2 in /srv/conda/lib/python3.7/site-packages (from plotly->dash==0.39.0) (4.4.0)\n",
      "Requirement already satisfied: requests in /srv/conda/lib/python3.7/site-packages (from plotly->dash==0.39.0) (2.21.0)\n",
      "Requirement already satisfied: MarkupSafe>=0.23 in /srv/conda/lib/python3.7/site-packages (from Jinja2>=2.10->Flask>=0.12->dash==0.39.0) (1.1.1)\n",
      "Requirement already satisfied: ipython_genutils in /srv/conda/lib/python3.7/site-packages (from nbformat>=4.2->plotly->dash==0.39.0) (0.2.0)\n",
      "Requirement already satisfied: traitlets>=4.1 in /srv/conda/lib/python3.7/site-packages (from nbformat>=4.2->plotly->dash==0.39.0) (4.3.2)\n",
      "Requirement already satisfied: jsonschema!=2.5.0,>=2.4 in /srv/conda/lib/python3.7/site-packages (from nbformat>=4.2->plotly->dash==0.39.0) (3.0.1)\n",
      "Requirement already satisfied: jupyter_core in /srv/conda/lib/python3.7/site-packages (from nbformat>=4.2->plotly->dash==0.39.0) (4.4.0)\n",
      "Requirement already satisfied: certifi>=2017.4.17 in /srv/conda/lib/python3.7/site-packages (from requests->plotly->dash==0.39.0) (2019.3.9)\n",
      "Requirement already satisfied: urllib3<1.25,>=1.21.1 in /srv/conda/lib/python3.7/site-packages (from requests->plotly->dash==0.39.0) (1.24.1)\n",
      "Requirement already satisfied: chardet<3.1.0,>=3.0.2 in /srv/conda/lib/python3.7/site-packages (from requests->plotly->dash==0.39.0) (3.0.4)\n",
      "Requirement already satisfied: idna<2.9,>=2.5 in /srv/conda/lib/python3.7/site-packages (from requests->plotly->dash==0.39.0) (2.8)\n",
      "Requirement already satisfied: attrs>=17.4.0 in /srv/conda/lib/python3.7/site-packages (from jsonschema!=2.5.0,>=2.4->nbformat>=4.2->plotly->dash==0.39.0) (19.1.0)\n",
      "Requirement already satisfied: pyrsistent>=0.14.0 in /srv/conda/lib/python3.7/site-packages (from jsonschema!=2.5.0,>=2.4->nbformat>=4.2->plotly->dash==0.39.0) (0.14.11)\n",
      "Requirement already satisfied: setuptools in /srv/conda/lib/python3.7/site-packages (from jsonschema!=2.5.0,>=2.4->nbformat>=4.2->plotly->dash==0.39.0) (40.8.0)\n",
      "Building wheels for collected packages: dash, flask-compress, dash-renderer, dash-core-components, dash-html-components, dash-table\n",
      "  Building wheel for dash (setup.py) ... \u001b[?25ldone\n",
      "\u001b[?25h  Stored in directory: /home/jovyan/.cache/pip/wheels/fb/75/e5/278d80ca56f3c1d623565079cacf3db4e672948d34311e0c91\n",
      "  Building wheel for flask-compress (setup.py) ... \u001b[?25ldone\n",
      "\u001b[?25h  Stored in directory: /home/jovyan/.cache/pip/wheels/96/32/88/a1f6d9dd3c29570ab3a8acc0d556b3b20abcf3c623c868ce0a\n",
      "  Building wheel for dash-renderer (setup.py) ... \u001b[?25ldone\n",
      "\u001b[?25h  Stored in directory: /home/jovyan/.cache/pip/wheels/6f/33/33/6473598a2a280dcfe8507b020b66da25dafe063fff31bb28f6\n",
      "  Building wheel for dash-core-components (setup.py) ... \u001b[?25ldone\n",
      "\u001b[?25h  Stored in directory: /home/jovyan/.cache/pip/wheels/83/ac/bb/68cefc4f1e6ec359183f3d198cadbec07193b1e3087256a5a2\n",
      "  Building wheel for dash-html-components (setup.py) ... \u001b[?25ldone\n",
      "\u001b[?25h  Stored in directory: /home/jovyan/.cache/pip/wheels/72/e5/cd/a82fd0f01affb14d3f3f19a19407f32a1845825603a7f9664b\n",
      "  Building wheel for dash-table (setup.py) ... \u001b[?25ldone\n",
      "\u001b[?25h  Stored in directory: /home/jovyan/.cache/pip/wheels/b9/7e/8a/1249b5961f59668eba0471800e618c47b4219f77e2887536bd\n",
      "Successfully built dash flask-compress dash-renderer dash-core-components dash-html-components dash-table\n",
      "Installing collected packages: Werkzeug, itsdangerous, click, Flask, flask-compress, dash-renderer, dash-core-components, dash-html-components, dash-table, dash\n",
      "Successfully installed Flask-1.0.2 Werkzeug-0.15.2 click-7.0 dash-0.39.0 dash-core-components-0.44.0 dash-html-components-0.14.0 dash-renderer-0.20.0 dash-table-3.6.0 flask-compress-1.4.0 itsdangerous-1.1.0\n",
      "Note: you may need to restart the kernel to use updated packages.\n"
     ]
    }
   ],
   "source": [
    "pip install dash==0.39.0  # The core dash backend\n"
   ]
  },
  {
   "cell_type": "code",
   "execution_count": 6,
   "metadata": {
    "collapsed": true
   },
   "outputs": [
    {
     "name": "stdout",
     "output_type": "stream",
     "text": [
      "Collecting dash-daq==0.1.0\n",
      "\u001b[?25l  Downloading https://files.pythonhosted.org/packages/8c/90/6c1405732316ad625ad6c6498d222a8ab8ef6183b2b60d8688b272bbe727/dash_daq-0.1.0.tar.gz (775kB)\n",
      "\u001b[K    100% |████████████████████████████████| 778kB 9.3MB/s eta 0:00:01\n",
      "\u001b[?25hBuilding wheels for collected packages: dash-daq\n",
      "  Building wheel for dash-daq (setup.py) ... \u001b[?25ldone\n",
      "\u001b[?25h  Stored in directory: /home/jovyan/.cache/pip/wheels/c0/ed/73/bf2186ecfdc110a63a45ec69b8fc0e2ad1fcc7e442dac1225d\n",
      "Successfully built dash-daq\n",
      "Installing collected packages: dash-daq\n",
      "Successfully installed dash-daq-0.1.0\n",
      "Note: you may need to restart the kernel to use updated packages.\n"
     ]
    }
   ],
   "source": [
    "pip install dash-daq==0.1.0 "
   ]
  },
  {
   "cell_type": "code",
   "execution_count": 7,
   "metadata": {
    "collapsed": true
   },
   "outputs": [
    {
     "name": "stdout",
     "output_type": "stream",
     "text": [
      "Requirement already satisfied: pandas in /srv/conda/lib/python3.7/site-packages (0.24.2)\n",
      "Requirement already satisfied: python-dateutil>=2.5.0 in /srv/conda/lib/python3.7/site-packages (from pandas) (2.8.0)\n",
      "Requirement already satisfied: numpy>=1.12.0 in /srv/conda/lib/python3.7/site-packages (from pandas) (1.16.2)\n",
      "Requirement already satisfied: pytz>=2011k in /srv/conda/lib/python3.7/site-packages (from pandas) (2018.9)\n",
      "Requirement already satisfied: six>=1.5 in /srv/conda/lib/python3.7/site-packages (from python-dateutil>=2.5.0->pandas) (1.12.0)\n",
      "Note: you may need to restart the kernel to use updated packages.\n"
     ]
    }
   ],
   "source": [
    "pip install pandas"
   ]
  },
  {
   "cell_type": "code",
   "execution_count": 11,
   "metadata": {},
   "outputs": [
    {
     "data": {
      "text/html": [
       "<script type=\"text/javascript\">window.PlotlyConfig = {MathJaxConfig: 'local'};</script><script type=\"text/javascript\">if (window.MathJax) {MathJax.Hub.Config({SVG: {font: \"STIX-Web\"}});}</script><script>requirejs.config({paths: { 'plotly': ['https://cdn.plot.ly/plotly-latest.min']},});if(!window._Plotly) {require(['plotly'],function(plotly) {window._Plotly=plotly;});}</script>"
      ],
      "text/vnd.plotly.v1+html": [
       "<script type=\"text/javascript\">window.PlotlyConfig = {MathJaxConfig: 'local'};</script><script type=\"text/javascript\">if (window.MathJax) {MathJax.Hub.Config({SVG: {font: \"STIX-Web\"}});}</script><script>requirejs.config({paths: { 'plotly': ['https://cdn.plot.ly/plotly-latest.min']},});if(!window._Plotly) {require(['plotly'],function(plotly) {window._Plotly=plotly;});}</script>"
      ]
     },
     "metadata": {},
     "output_type": "display_data"
    }
   ],
   "source": [
    "import pandas as pd\n",
    "import plotly\n",
    "import plotly.plotly as py\n",
    "import plotly.graph_objs as go\n",
    "import numpy as np\n",
    "\n",
    "from plotly.offline import download_plotlyjs, init_notebook_mode, plot, iplot\n",
    "init_notebook_mode(connected=True)"
   ]
  },
  {
   "cell_type": "code",
   "execution_count": 12,
   "metadata": {},
   "outputs": [],
   "source": [
    "dat = pd.read_csv(\"voucher.csv\", delimiter = \";\")\n",
    "\n",
    "dff = pd.DataFrame(dat.Betrag)\n",
    "dgg = pd.DataFrame(dat.Kategorie)\n",
    "dhh = pd.DataFrame(dat.Datum)\n",
    "djj = pd.DataFrame(dat['offener Betrag'])"
   ]
  },
  {
   "cell_type": "code",
   "execution_count": 13,
   "metadata": {},
   "outputs": [
    {
     "data": {
      "application/vnd.plotly.v1+json": {
       "config": {
        "linkText": "Export to plot.ly",
        "plotlyServerURL": "https://plot.ly",
        "showLink": false
       },
       "data": [
        {
         "cells": {
          "values": [
           [
            [
             "395,50"
            ],
            [
             "395,50"
            ],
            [
             "332,82"
            ],
            [
             "316,84"
            ],
            [
             "15,98"
            ],
            [
             "194,37"
            ],
            [
             "190,15"
            ],
            [
             "4,22"
            ],
            [
             "213,53"
            ],
            [
             "208,90"
            ],
            [
             "4,63"
            ],
            [
             "77,86"
            ],
            [
             "75,86"
            ],
            [
             "2,00"
            ],
            [
             "147,60"
            ],
            [
             "147,60"
            ]
           ],
           [
            [
             null
            ],
            [
             "Rechtschutz"
            ],
            [
             null
            ],
            [
             "Leasing für Geräte"
            ],
            [
             "Firmenversicherung"
            ],
            [
             null
            ],
            [
             "Leasing für Geräte"
            ],
            [
             "Firmenversicherung"
            ],
            [
             null
            ],
            [
             "Leasing für Geräte"
            ],
            [
             "Firmenversicherung"
            ],
            [
             null
            ],
            [
             "Leasing für Geräte"
            ],
            [
             "Firmenversicherung"
            ],
            [
             null
            ],
            [
             "Betriebshaftpflicht"
            ]
           ],
           [
            [
             "28.03.2019"
            ],
            [
             null
            ],
            [
             "05.03.2019"
            ],
            [
             null
            ],
            [
             null
            ],
            [
             "01.03.2019"
            ],
            [
             null
            ],
            [
             null
            ],
            [
             "01.03.2019"
            ],
            [
             null
            ],
            [
             null
            ],
            [
             "01.03.2019"
            ],
            [
             null
            ],
            [
             null
            ],
            [
             "01.03.2019"
            ],
            [
             null
            ]
           ],
           [
            [
             "395,50"
            ],
            [
             null
            ],
            [
             "332,82"
            ],
            [
             null
            ],
            [
             null
            ],
            [
             "194,37"
            ],
            [
             null
            ],
            [
             null
            ],
            [
             "213,53"
            ],
            [
             null
            ],
            [
             null
            ],
            [
             "0,00"
            ],
            [
             null
            ],
            [
             null
            ],
            [
             "147,60"
            ],
            [
             null
            ]
           ]
          ]
         },
         "header": {
          "values": [
           "Betrag",
           "Kategorie",
           "Datum",
           "offener Betrag"
          ]
         },
         "type": "table",
         "uid": "41b08d23-43af-4120-bd2b-2201435e946f"
        }
       ],
       "layout": {}
      },
      "text/html": [
       "<div id=\"6fe8a0fe-0952-41f8-bf01-8930822cb9a9\" style=\"height: 525px; width: 100%;\" class=\"plotly-graph-div\"></div><script type=\"text/javascript\">require([\"plotly\"], function(Plotly) { window.PLOTLYENV=window.PLOTLYENV || {};window.PLOTLYENV.BASE_URL=\"https://plot.ly\";\n",
       "if (document.getElementById(\"6fe8a0fe-0952-41f8-bf01-8930822cb9a9\")) {\n",
       "    Plotly.newPlot(\"6fe8a0fe-0952-41f8-bf01-8930822cb9a9\", [{\"cells\": {\"values\": [[[\"395,50\"], [\"395,50\"], [\"332,82\"], [\"316,84\"], [\"15,98\"], [\"194,37\"], [\"190,15\"], [\"4,22\"], [\"213,53\"], [\"208,90\"], [\"4,63\"], [\"77,86\"], [\"75,86\"], [\"2,00\"], [\"147,60\"], [\"147,60\"]], [[null], [\"Rechtschutz\"], [null], [\"Leasing f\\u00fcr Ger\\u00e4te\"], [\"Firmenversicherung\"], [null], [\"Leasing f\\u00fcr Ger\\u00e4te\"], [\"Firmenversicherung\"], [null], [\"Leasing f\\u00fcr Ger\\u00e4te\"], [\"Firmenversicherung\"], [null], [\"Leasing f\\u00fcr Ger\\u00e4te\"], [\"Firmenversicherung\"], [null], [\"Betriebshaftpflicht\"]], [[\"28.03.2019\"], [null], [\"05.03.2019\"], [null], [null], [\"01.03.2019\"], [null], [null], [\"01.03.2019\"], [null], [null], [\"01.03.2019\"], [null], [null], [\"01.03.2019\"], [null]], [[\"395,50\"], [null], [\"332,82\"], [null], [null], [\"194,37\"], [null], [null], [\"213,53\"], [null], [null], [\"0,00\"], [null], [null], [\"147,60\"], [null]]]}, \"header\": {\"values\": [\"Betrag\", \"Kategorie\", \"Datum\", \"offener Betrag\"]}, \"type\": \"table\", \"uid\": \"707a8faa-965a-413d-8079-e5bcbfc53fbd\"}], {}, {\"showLink\": false, \"linkText\": \"Export to plot.ly\", \"plotlyServerURL\": \"https://plot.ly\"}); \n",
       "}\n",
       "});</script><script type=\"text/javascript\">window.addEventListener(\"resize\", function(){if (document.getElementById(\"6fe8a0fe-0952-41f8-bf01-8930822cb9a9\")) {window._Plotly.Plots.resize(document.getElementById(\"6fe8a0fe-0952-41f8-bf01-8930822cb9a9\"));};})</script>"
      ],
      "text/vnd.plotly.v1+html": [
       "<div id=\"6fe8a0fe-0952-41f8-bf01-8930822cb9a9\" style=\"height: 525px; width: 100%;\" class=\"plotly-graph-div\"></div><script type=\"text/javascript\">require([\"plotly\"], function(Plotly) { window.PLOTLYENV=window.PLOTLYENV || {};window.PLOTLYENV.BASE_URL=\"https://plot.ly\";\n",
       "if (document.getElementById(\"6fe8a0fe-0952-41f8-bf01-8930822cb9a9\")) {\n",
       "    Plotly.newPlot(\"6fe8a0fe-0952-41f8-bf01-8930822cb9a9\", [{\"cells\": {\"values\": [[[\"395,50\"], [\"395,50\"], [\"332,82\"], [\"316,84\"], [\"15,98\"], [\"194,37\"], [\"190,15\"], [\"4,22\"], [\"213,53\"], [\"208,90\"], [\"4,63\"], [\"77,86\"], [\"75,86\"], [\"2,00\"], [\"147,60\"], [\"147,60\"]], [[null], [\"Rechtschutz\"], [null], [\"Leasing f\\u00fcr Ger\\u00e4te\"], [\"Firmenversicherung\"], [null], [\"Leasing f\\u00fcr Ger\\u00e4te\"], [\"Firmenversicherung\"], [null], [\"Leasing f\\u00fcr Ger\\u00e4te\"], [\"Firmenversicherung\"], [null], [\"Leasing f\\u00fcr Ger\\u00e4te\"], [\"Firmenversicherung\"], [null], [\"Betriebshaftpflicht\"]], [[\"28.03.2019\"], [null], [\"05.03.2019\"], [null], [null], [\"01.03.2019\"], [null], [null], [\"01.03.2019\"], [null], [null], [\"01.03.2019\"], [null], [null], [\"01.03.2019\"], [null]], [[\"395,50\"], [null], [\"332,82\"], [null], [null], [\"194,37\"], [null], [null], [\"213,53\"], [null], [null], [\"0,00\"], [null], [null], [\"147,60\"], [null]]]}, \"header\": {\"values\": [\"Betrag\", \"Kategorie\", \"Datum\", \"offener Betrag\"]}, \"type\": \"table\", \"uid\": \"707a8faa-965a-413d-8079-e5bcbfc53fbd\"}], {}, {\"showLink\": false, \"linkText\": \"Export to plot.ly\", \"plotlyServerURL\": \"https://plot.ly\"}); \n",
       "}\n",
       "});</script><script type=\"text/javascript\">window.addEventListener(\"resize\", function(){if (document.getElementById(\"6fe8a0fe-0952-41f8-bf01-8930822cb9a9\")) {window._Plotly.Plots.resize(document.getElementById(\"6fe8a0fe-0952-41f8-bf01-8930822cb9a9\"));};})</script>"
      ]
     },
     "metadata": {},
     "output_type": "display_data"
    }
   ],
   "source": [
    "trace = go.Table(\n",
    "    header=dict(values=['Betrag','Kategorie', 'Datum', 'offener Betrag']),\n",
    "    cells=dict(values=[dff, dgg, dhh, djj\n",
    "                       ]))\n",
    "\n",
    "data = [trace]\n",
    "\n",
    "iplot(data)\n",
    "\n",
    "#plot(data)\n",
    "#py.iplot(data, filename = 'basic_table')"
   ]
  },
  {
   "cell_type": "code",
   "execution_count": 14,
   "metadata": {},
   "outputs": [
    {
     "name": "stdout",
     "output_type": "stream",
     "text": [
      "['395.50', '395.50', '332.82', '316.84', '15.98', '194.37', '190.15', '4.22', '213.53', '208.90', '4.63', '77.86', '75.86', '2.00', '147.60', '147.60']\n",
      "2723.36\n"
     ]
    }
   ],
   "source": [
    "dffa = dff.Betrag.to_list()    \n",
    "\n",
    "for i in range(len(dffa)):\n",
    "    dffa[i] = dffa[i].replace(\",\", \".\")\n",
    "print(dffa)\n",
    "\n",
    "\n",
    "dffb = [float(i) for i in dffa]\n",
    "#dffb = np.array(dffa,dtype=float)\n",
    "\n",
    "print(sum(dffb))"
   ]
  },
  {
   "cell_type": "code",
   "execution_count": 16,
   "metadata": {},
   "outputs": [
    {
     "name": "stdout",
     "output_type": "stream",
     "text": [
      "26.83\n",
      "791.75\n",
      "147.6\n"
     ]
    }
   ],
   "source": [
    "betrag_versi = dat.Betrag.where(dat.Kategorie == \"Firmenversicherung\")\n",
    "betrag_versi = betrag_versi.to_list()    \n",
    "\n",
    "betrag_versi_cleaned = [x for x in betrag_versi if str(x) != 'nan']\n",
    "\n",
    "\n",
    "for i in range(len(betrag_versi_cleaned)):\n",
    "    betrag_versi_cleaned[i] = betrag_versi_cleaned[i].replace(\",\", \".\")\n",
    "#print(betrag_leasing_cleaned)\n",
    "\n",
    "betrag_versi_cleaned = [float(i) for i in betrag_versi_cleaned]\n",
    "\n",
    "print(sum(betrag_versi_cleaned))\n",
    "b1= sum(betrag_versi_cleaned)\n",
    "\n",
    "##############\n",
    "\n",
    "betrag_leasing = dat.Betrag.where(dat.Kategorie == \"Leasing für Geräte\")\n",
    "betrag_leasing = betrag_leasing.to_list()    \n",
    "\n",
    "betrag_leasing_cleaned = [x for x in betrag_leasing if str(x) != 'nan']\n",
    "\n",
    "\n",
    "for i in range(len(betrag_leasing_cleaned)):\n",
    "    betrag_leasing_cleaned[i] = betrag_leasing_cleaned[i].replace(\",\", \".\")\n",
    "#print(betrag_leasing_cleaned)\n",
    "\n",
    "betrag_leasing_cleaned = [float(i) for i in betrag_leasing_cleaned]\n",
    "\n",
    "print(sum(betrag_leasing_cleaned))\n",
    "b2 = sum(betrag_leasing_cleaned)\n",
    "\n",
    "\n",
    "#############\n",
    "\n",
    "betrag_haft = dat.Betrag.where(dat.Kategorie == \"Betriebshaftpflicht\")\n",
    "betrag_haft = betrag_haft.to_list()    \n",
    "\n",
    "betrag_haft_cleaned = [x for x in betrag_haft if str(x) != 'nan']\n",
    "\n",
    "\n",
    "for i in range(len(betrag_haft_cleaned)):\n",
    "    betrag_haft_cleaned[i] = betrag_haft_cleaned[i].replace(\",\", \".\")\n",
    "#print(betrag_leasing_cleaned)\n",
    "\n",
    "betrag_haft_cleaned = [float(i) for i in betrag_haft_cleaned]\n",
    "\n",
    "print(sum(betrag_haft_cleaned))\n",
    "b3= sum(betrag_haft_cleaned)"
   ]
  },
  {
   "cell_type": "code",
   "execution_count": 17,
   "metadata": {},
   "outputs": [
    {
     "data": {
      "application/vnd.plotly.v1+json": {
       "config": {
        "linkText": "Export to plot.ly",
        "plotlyServerURL": "https://plot.ly",
        "showLink": false
       },
       "data": [
        {
         "labels": [
          "Firmenversicherung",
          "Leasing für Geräte",
          "Betriebshaftpflicht"
         ],
         "type": "pie",
         "uid": "6fd9d9d2-b979-40ae-9394-d8b4404bf52e",
         "values": [
          26.83,
          791.75,
          147.6
         ]
        }
       ],
       "layout": {}
      },
      "text/html": [
       "<div id=\"fb1aaa83-8f77-4541-b294-0be7e5b8a5a7\" style=\"height: 525px; width: 100%;\" class=\"plotly-graph-div\"></div><script type=\"text/javascript\">require([\"plotly\"], function(Plotly) { window.PLOTLYENV=window.PLOTLYENV || {};window.PLOTLYENV.BASE_URL=\"https://plot.ly\";\n",
       "if (document.getElementById(\"fb1aaa83-8f77-4541-b294-0be7e5b8a5a7\")) {\n",
       "    Plotly.newPlot(\"fb1aaa83-8f77-4541-b294-0be7e5b8a5a7\", [{\"labels\": [\"Firmenversicherung\", \"Leasing f\\u00fcr Ger\\u00e4te\", \"Betriebshaftpflicht\"], \"values\": [26.83, 791.75, 147.6], \"type\": \"pie\", \"uid\": \"48c4cd91-7a05-4cc2-b9d4-aafe41cd899c\"}], {}, {\"showLink\": false, \"linkText\": \"Export to plot.ly\", \"plotlyServerURL\": \"https://plot.ly\"}); \n",
       "}\n",
       "});</script><script type=\"text/javascript\">window.addEventListener(\"resize\", function(){if (document.getElementById(\"fb1aaa83-8f77-4541-b294-0be7e5b8a5a7\")) {window._Plotly.Plots.resize(document.getElementById(\"fb1aaa83-8f77-4541-b294-0be7e5b8a5a7\"));};})</script>"
      ],
      "text/vnd.plotly.v1+html": [
       "<div id=\"fb1aaa83-8f77-4541-b294-0be7e5b8a5a7\" style=\"height: 525px; width: 100%;\" class=\"plotly-graph-div\"></div><script type=\"text/javascript\">require([\"plotly\"], function(Plotly) { window.PLOTLYENV=window.PLOTLYENV || {};window.PLOTLYENV.BASE_URL=\"https://plot.ly\";\n",
       "if (document.getElementById(\"fb1aaa83-8f77-4541-b294-0be7e5b8a5a7\")) {\n",
       "    Plotly.newPlot(\"fb1aaa83-8f77-4541-b294-0be7e5b8a5a7\", [{\"labels\": [\"Firmenversicherung\", \"Leasing f\\u00fcr Ger\\u00e4te\", \"Betriebshaftpflicht\"], \"values\": [26.83, 791.75, 147.6], \"type\": \"pie\", \"uid\": \"48c4cd91-7a05-4cc2-b9d4-aafe41cd899c\"}], {}, {\"showLink\": false, \"linkText\": \"Export to plot.ly\", \"plotlyServerURL\": \"https://plot.ly\"}); \n",
       "}\n",
       "});</script><script type=\"text/javascript\">window.addEventListener(\"resize\", function(){if (document.getElementById(\"fb1aaa83-8f77-4541-b294-0be7e5b8a5a7\")) {window._Plotly.Plots.resize(document.getElementById(\"fb1aaa83-8f77-4541-b294-0be7e5b8a5a7\"));};})</script>"
      ]
     },
     "metadata": {},
     "output_type": "display_data"
    }
   ],
   "source": [
    "labels = [\"Firmenversicherung\",\"Leasing für Geräte\",\"Betriebshaftpflicht\"]\n",
    "values = [b1,b2,b3]\n",
    "\n",
    "trace = go.Pie(labels=labels, values=values)\n",
    "\n",
    "iplot([trace], filename='basic_pie_chart')"
   ]
  },
  {
   "cell_type": "code",
   "execution_count": null,
   "metadata": {},
   "outputs": [],
   "source": []
  }
 ],
 "metadata": {
  "kernelspec": {
   "display_name": "Python 3",
   "language": "python",
   "name": "python3"
  },
  "language_info": {
   "codemirror_mode": {
    "name": "ipython",
    "version": 3
   },
   "file_extension": ".py",
   "mimetype": "text/x-python",
   "name": "python",
   "nbconvert_exporter": "python",
   "pygments_lexer": "ipython3",
   "version": "3.7.2"
  }
 },
 "nbformat": 4,
 "nbformat_minor": 2
}
