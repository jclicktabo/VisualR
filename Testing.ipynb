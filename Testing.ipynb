{
 "cells": [
  {
   "cell_type": "markdown",
   "metadata": {},
   "source": [
    "# Welcome to Jupyter!"
   ]
  },
  {
   "cell_type": "markdown",
   "metadata": {},
   "source": [
    "This repo contains an introduction to [Jupyter](https://jupyter.org) and [IPython](https://ipython.org).\n",
    "\n",
    "Outline of some basics:\n",
    "\n",
    "* [Notebook Basics](../examples/Notebook/Notebook%20Basics.ipynb)\n",
    "* [IPython - beyond plain python](../examples/IPython%20Kernel/Beyond%20Plain%20Python.ipynb)\n",
    "* [Markdown Cells](../examples/Notebook/Working%20With%20Markdown%20Cells.ipynb)\n",
    "* [Rich Display System](../examples/IPython%20Kernel/Rich%20Output.ipynb)\n",
    "* [Custom Display logic](../examples/IPython%20Kernel/Custom%20Display%20Logic.ipynb)\n",
    "* [Running a Secure Public Notebook Server](../examples/Notebook/Running%20the%20Notebook%20Server.ipynb#Securing-the-notebook-server)\n",
    "* [How Jupyter works](../examples/Notebook/Multiple%20Languages%2C%20Frontends.ipynb) to run code in different languages."
   ]
  },
  {
   "cell_type": "markdown",
   "metadata": {},
   "source": [
    "You can also get this tutorial and run it on your laptop:\n",
    "\n",
    "    git clone https://github.com/ipython/ipython-in-depth\n",
    "\n",
    "Install IPython and Jupyter:\n",
    "\n",
    "with [conda](https://www.anaconda.com/download):\n",
    "\n",
    "    conda install ipython jupyter\n",
    "\n",
    "with pip:\n",
    "\n",
    "    # first, always upgrade pip!\n",
    "    pip install --upgrade pip\n",
    "    pip install --upgrade ipython jupyter\n",
    "\n",
    "Start the notebook in the tutorial directory:\n",
    "\n",
    "    cd ipython-in-depth\n",
    "    jupyter notebook"
   ]
  },
  {
   "cell_type": "code",
   "execution_count": 1,
   "metadata": {
    "collapsed": true
   },
   "outputs": [
    {
     "ename": "SyntaxError",
     "evalue": "invalid syntax (<ipython-input-1-bee4931010e3>, line 1)",
     "output_type": "error",
     "traceback": [
      "\u001b[0;36m  File \u001b[0;32m\"<ipython-input-1-bee4931010e3>\"\u001b[0;36m, line \u001b[0;32m1\u001b[0m\n\u001b[0;31m    pip install --upgrade ipython jupyter\u001b[0m\n\u001b[0m              ^\u001b[0m\n\u001b[0;31mSyntaxError\u001b[0m\u001b[0;31m:\u001b[0m invalid syntax\n"
     ]
    }
   ],
   "source": [
    "pip install --upgrade ipython jupyter\n"
   ]
  },
  {
   "cell_type": "code",
   "execution_count": 72,
   "metadata": {
    "collapsed": true
   },
   "outputs": [
    {
     "ename": "SyntaxError",
     "evalue": "invalid syntax (<ipython-input-72-935ac10d7a72>, line 1)",
     "output_type": "error",
     "traceback": [
      "\u001b[0;36m  File \u001b[0;32m\"<ipython-input-72-935ac10d7a72>\"\u001b[0;36m, line \u001b[0;32m1\u001b[0m\n\u001b[0;31m    pip install plotly\u001b[0m\n\u001b[0m              ^\u001b[0m\n\u001b[0;31mSyntaxError\u001b[0m\u001b[0;31m:\u001b[0m invalid syntax\n"
     ]
    }
   ],
   "source": [
    "pip install plotly\n"
   ]
  },
  {
   "cell_type": "code",
   "execution_count": 74,
   "metadata": {
    "scrolled": true
   },
   "outputs": [
    {
     "name": "stdout",
     "output_type": "stream",
     "text": [
      "Collecting dash==0.39.0\n",
      "\u001b[?25l  Downloading https://files.pythonhosted.org/packages/38/c0/353ba9f56f171389f0b4985f0481805219fc1921d651586c51345b89c1ea/dash-0.39.0.tar.gz (40kB)\n",
      "\u001b[K    100% |████████████████████████████████| 40kB 3.7MB/s ta 0:00:011\n",
      "\u001b[?25hCollecting Flask>=0.12 (from dash==0.39.0)\n",
      "\u001b[?25l  Downloading https://files.pythonhosted.org/packages/7f/e7/08578774ed4536d3242b14dacb4696386634607af824ea997202cd0edb4b/Flask-1.0.2-py2.py3-none-any.whl (91kB)\n",
      "\u001b[K    100% |████████████████████████████████| 92kB 6.6MB/s ta 0:00:011\n",
      "\u001b[?25hCollecting flask-compress (from dash==0.39.0)\n",
      "  Downloading https://files.pythonhosted.org/packages/0e/2a/378bd072928f6d92fd8c417d66b00c757dc361c0405a46a0134de6fd323d/Flask-Compress-1.4.0.tar.gz\n",
      "Requirement already satisfied: plotly in /srv/conda/lib/python3.6/site-packages (from dash==0.39.0) (3.7.1)\n",
      "Collecting dash_renderer==0.20.0 (from dash==0.39.0)\n",
      "\u001b[?25l  Downloading https://files.pythonhosted.org/packages/c4/dd/f686321d054bb1e145d3a7d1f6600516de535b0d597bcf7701dbb96b1262/dash_renderer-0.20.0.tar.gz (920kB)\n",
      "\u001b[K    100% |████████████████████████████████| 921kB 12.8MB/s ta 0:00:01\n",
      "\u001b[?25hCollecting dash-core-components==0.44.0 (from dash==0.39.0)\n",
      "\u001b[?25l  Downloading https://files.pythonhosted.org/packages/07/8b/e7193b60288f62c6c40da7d3fdbd01ccdc6752dbf25e9ef60912a5948938/dash_core_components-0.44.0.tar.gz (4.2MB)\n",
      "\u001b[K    100% |████████████████████████████████| 4.2MB 2.1MB/s eta 0:00:01\n",
      "\u001b[?25hCollecting dash-html-components==0.14.0 (from dash==0.39.0)\n",
      "\u001b[?25l  Downloading https://files.pythonhosted.org/packages/08/1f/943c0f90d957fdff6c5968ea80694b2959d0b0ec959be17a1478e3c97e5a/dash_html_components-0.14.0.tar.gz (537kB)\n",
      "\u001b[K    100% |████████████████████████████████| 542kB 15.1MB/s ta 0:00:01\n",
      "\u001b[?25hCollecting dash-table==3.6.0 (from dash==0.39.0)\n",
      "\u001b[?25l  Downloading https://files.pythonhosted.org/packages/a3/3a/eae584bb7eccdf93d2931c4ebf43e55937cf22d51ad63551241fc83d68fc/dash_table-3.6.0.tar.gz (468kB)\n",
      "\u001b[K    100% |████████████████████████████████| 471kB 14.7MB/s ta 0:00:01\n",
      "\u001b[?25hCollecting click>=5.1 (from Flask>=0.12->dash==0.39.0)\n",
      "\u001b[?25l  Downloading https://files.pythonhosted.org/packages/fa/37/45185cb5abbc30d7257104c434fe0b07e5a195a6847506c074527aa599ec/Click-7.0-py2.py3-none-any.whl (81kB)\n",
      "\u001b[K    100% |████████████████████████████████| 81kB 19.3MB/s ta 0:00:01\n",
      "\u001b[?25hCollecting Werkzeug>=0.14 (from Flask>=0.12->dash==0.39.0)\n",
      "\u001b[?25l  Downloading https://files.pythonhosted.org/packages/24/4d/2fc4e872fbaaf44cc3fd5a9cd42fda7e57c031f08e28c9f35689e8b43198/Werkzeug-0.15.1-py2.py3-none-any.whl (328kB)\n",
      "\u001b[K    100% |████████████████████████████████| 337kB 17.1MB/s ta 0:00:01\n",
      "\u001b[?25hRequirement already satisfied: Jinja2>=2.10 in /srv/conda/lib/python3.6/site-packages (from Flask>=0.12->dash==0.39.0) (2.10)\n",
      "Collecting itsdangerous>=0.24 (from Flask>=0.12->dash==0.39.0)\n",
      "  Downloading https://files.pythonhosted.org/packages/76/ae/44b03b253d6fade317f32c24d100b3b35c2239807046a4c953c7b89fa49e/itsdangerous-1.1.0-py2.py3-none-any.whl\n",
      "Requirement already satisfied: nbformat>=4.2 in /srv/conda/lib/python3.6/site-packages (from plotly->dash==0.39.0) (4.4.0)\n",
      "Requirement already satisfied: decorator>=4.0.6 in /srv/conda/lib/python3.6/site-packages (from plotly->dash==0.39.0) (4.4.0)\n",
      "Requirement already satisfied: retrying>=1.3.3 in /srv/conda/lib/python3.6/site-packages (from plotly->dash==0.39.0) (1.3.3)\n",
      "Requirement already satisfied: pytz in /srv/conda/lib/python3.6/site-packages (from plotly->dash==0.39.0) (2018.9)\n",
      "Requirement already satisfied: requests in /srv/conda/lib/python3.6/site-packages (from plotly->dash==0.39.0) (2.21.0)\n",
      "Requirement already satisfied: six in /srv/conda/lib/python3.6/site-packages (from plotly->dash==0.39.0) (1.12.0)\n",
      "Requirement already satisfied: MarkupSafe>=0.23 in /srv/conda/lib/python3.6/site-packages (from Jinja2>=2.10->Flask>=0.12->dash==0.39.0) (1.1.1)\n",
      "Requirement already satisfied: ipython_genutils in /srv/conda/lib/python3.6/site-packages (from nbformat>=4.2->plotly->dash==0.39.0) (0.2.0)\n",
      "Requirement already satisfied: traitlets>=4.1 in /srv/conda/lib/python3.6/site-packages (from nbformat>=4.2->plotly->dash==0.39.0) (4.3.2)\n",
      "Requirement already satisfied: jsonschema!=2.5.0,>=2.4 in /srv/conda/lib/python3.6/site-packages (from nbformat>=4.2->plotly->dash==0.39.0) (3.0.1)\n",
      "Requirement already satisfied: jupyter_core in /srv/conda/lib/python3.6/site-packages (from nbformat>=4.2->plotly->dash==0.39.0) (4.4.0)\n",
      "Requirement already satisfied: idna<2.9,>=2.5 in /srv/conda/lib/python3.6/site-packages (from requests->plotly->dash==0.39.0) (2.8)\n",
      "Requirement already satisfied: certifi>=2017.4.17 in /srv/conda/lib/python3.6/site-packages (from requests->plotly->dash==0.39.0) (2019.3.9)\n",
      "Requirement already satisfied: urllib3<1.25,>=1.21.1 in /srv/conda/lib/python3.6/site-packages (from requests->plotly->dash==0.39.0) (1.24.1)\n",
      "Requirement already satisfied: chardet<3.1.0,>=3.0.2 in /srv/conda/lib/python3.6/site-packages (from requests->plotly->dash==0.39.0) (3.0.4)\n",
      "Requirement already satisfied: attrs>=17.4.0 in /srv/conda/lib/python3.6/site-packages (from jsonschema!=2.5.0,>=2.4->nbformat>=4.2->plotly->dash==0.39.0) (19.1.0)\n",
      "Requirement already satisfied: pyrsistent>=0.14.0 in /srv/conda/lib/python3.6/site-packages (from jsonschema!=2.5.0,>=2.4->nbformat>=4.2->plotly->dash==0.39.0) (0.14.11)\n",
      "Requirement already satisfied: setuptools in /srv/conda/lib/python3.6/site-packages (from jsonschema!=2.5.0,>=2.4->nbformat>=4.2->plotly->dash==0.39.0) (40.8.0)\n",
      "Building wheels for collected packages: dash, flask-compress, dash-renderer, dash-core-components, dash-html-components, dash-table\n",
      "  Building wheel for dash (setup.py) ... \u001b[?25ldone\n",
      "\u001b[?25h  Stored in directory: /home/jovyan/.cache/pip/wheels/fb/75/e5/278d80ca56f3c1d623565079cacf3db4e672948d34311e0c91\n",
      "  Building wheel for flask-compress (setup.py) ... \u001b[?25ldone\n",
      "\u001b[?25h  Stored in directory: /home/jovyan/.cache/pip/wheels/96/32/88/a1f6d9dd3c29570ab3a8acc0d556b3b20abcf3c623c868ce0a\n",
      "  Building wheel for dash-renderer (setup.py) ... \u001b[?25ldone\n",
      "\u001b[?25h  Stored in directory: /home/jovyan/.cache/pip/wheels/6f/33/33/6473598a2a280dcfe8507b020b66da25dafe063fff31bb28f6\n",
      "  Building wheel for dash-core-components (setup.py) ... \u001b[?25ldone\n",
      "\u001b[?25h  Stored in directory: /home/jovyan/.cache/pip/wheels/83/ac/bb/68cefc4f1e6ec359183f3d198cadbec07193b1e3087256a5a2\n",
      "  Building wheel for dash-html-components (setup.py) ... \u001b[?25ldone\n",
      "\u001b[?25h  Stored in directory: /home/jovyan/.cache/pip/wheels/72/e5/cd/a82fd0f01affb14d3f3f19a19407f32a1845825603a7f9664b\n",
      "  Building wheel for dash-table (setup.py) ... \u001b[?25ldone\n",
      "\u001b[?25h  Stored in directory: /home/jovyan/.cache/pip/wheels/b9/7e/8a/1249b5961f59668eba0471800e618c47b4219f77e2887536bd\n",
      "Successfully built dash flask-compress dash-renderer dash-core-components dash-html-components dash-table\n",
      "Installing collected packages: click, Werkzeug, itsdangerous, Flask, flask-compress, dash-renderer, dash-core-components, dash-html-components, dash-table, dash\n",
      "Successfully installed Flask-1.0.2 Werkzeug-0.15.1 click-7.0 dash-0.39.0 dash-core-components-0.44.0 dash-html-components-0.14.0 dash-renderer-0.20.0 dash-table-3.6.0 flask-compress-1.4.0 itsdangerous-1.1.0\n",
      "Note: you may need to restart the kernel to use updated packages.\n"
     ]
    }
   ],
   "source": [
    "pip install dash==0.39.0  # The core dash backend\n"
   ]
  },
  {
   "cell_type": "code",
   "execution_count": 75,
   "metadata": {
    "collapsed": true
   },
   "outputs": [
    {
     "name": "stdout",
     "output_type": "stream",
     "text": [
      "Collecting dash-daq==0.1.0\n",
      "\u001b[?25l  Downloading https://files.pythonhosted.org/packages/8c/90/6c1405732316ad625ad6c6498d222a8ab8ef6183b2b60d8688b272bbe727/dash_daq-0.1.0.tar.gz (775kB)\n",
      "\u001b[K    100% |████████████████████████████████| 778kB 7.8MB/s eta 0:00:01\n",
      "\u001b[?25hBuilding wheels for collected packages: dash-daq\n",
      "  Building wheel for dash-daq (setup.py) ... \u001b[?25ldone\n",
      "\u001b[?25h  Stored in directory: /home/jovyan/.cache/pip/wheels/c0/ed/73/bf2186ecfdc110a63a45ec69b8fc0e2ad1fcc7e442dac1225d\n",
      "Successfully built dash-daq\n",
      "Installing collected packages: dash-daq\n",
      "Successfully installed dash-daq-0.1.0\n",
      "Note: you may need to restart the kernel to use updated packages.\n"
     ]
    }
   ],
   "source": [
    "pip install dash-daq==0.1.0 "
   ]
  },
  {
   "cell_type": "code",
   "execution_count": 25,
   "metadata": {},
   "outputs": [],
   "source": [
    "import pandas as pd\n",
    "import plotly\n",
    "import plotly.plotly as py\n",
    "import plotly.graph_objs as go\n",
    "import numpy as np\n",
    "\n",
    "\n",
    "plotly.tools.set_credentials_file(username='bytabo', api_key='xEQqTMh963kqLvWrTKbe')\n"
   ]
  },
  {
   "cell_type": "code",
   "execution_count": 3,
   "metadata": {},
   "outputs": [],
   "source": [
    "dat = pd.read_csv(\"data.csv\", delimiter = \";\")\n",
    "\n",
    "dff = pd.DataFrame(dat.Betrag)\n",
    "dgg = pd.DataFrame(dat.Kategorie)\n",
    "dhh = pd.DataFrame(dat.Datum)\n",
    "djj = pd.DataFrame(dat['offener Betrag'])"
   ]
  },
  {
   "cell_type": "code",
   "execution_count": 7,
   "metadata": {},
   "outputs": [
    {
     "name": "stdout",
     "output_type": "stream",
     "text": [
      "Index(['﻿\"Belegnummer\"', 'Status', 'Position ', 'Lieferant / Kunde',\n",
      "       'Kategorie', 'Beschreibung', 'Datum', 'Fällig am', 'Bezahlt am',\n",
      "       'offener Betrag', 'Betrag', 'Kostenstelle', 'Unnamed: 12'],\n",
      "      dtype='object')\n",
      "High five! You successfully sent some data to your account on plotly. View your plot in your browser at https://plot.ly/~bytabo/0 or inside your plot.ly account where it is named 'basic_table'\n"
     ]
    },
    {
     "data": {
      "text/html": [
       "<iframe id=\"igraph\" scrolling=\"no\" style=\"border:none;\" seamless=\"seamless\" src=\"https://plot.ly/~bytabo/0.embed\" height=\"525px\" width=\"100%\"></iframe>"
      ],
      "text/plain": [
       "<plotly.tools.PlotlyDisplay object>"
      ]
     },
     "execution_count": 7,
     "metadata": {},
     "output_type": "execute_result"
    }
   ],
   "source": [
    "trace = go.Table(\n",
    "    header=dict(values=['Betrag','Kategorie', 'Datum', 'offener Betrag']),\n",
    "    cells=dict(values=[dff, dgg, dhh, djj\n",
    "                       ]))\n",
    "\n",
    "data = [trace]\n",
    "\n",
    "py.iplot(data, filename = 'basic_table')"
   ]
  },
  {
   "cell_type": "code",
   "execution_count": 81,
   "metadata": {},
   "outputs": [
    {
     "name": "stdout",
     "output_type": "stream",
     "text": [
      "['395.50', '395.50', '332.82', '316.84', '15.98', '194.37', '190.15', '4.22', '213.53', '208.90', '4.63', '77.86', '75.86', '2.00', '147.60', '147.60']\n",
      "2723.36\n"
     ]
    }
   ],
   "source": [
    "dffa = dff.Betrag.to_list()    \n",
    "\n",
    "for i in range(len(dffa)):\n",
    "    dffa[i] = dffa[i].replace(\",\", \".\")\n",
    "print(dffa)\n",
    "\n",
    "\n",
    "dffb = [float(i) for i in dffa]\n",
    "#dffb = np.array(dffa,dtype=float)\n",
    "\n",
    "print(sum(dffb))"
   ]
  },
  {
   "cell_type": "code",
   "execution_count": 92,
   "metadata": {},
   "outputs": [
    {
     "name": "stdout",
     "output_type": "stream",
     "text": [
      "26.83\n",
      "791.75\n",
      "147.6\n"
     ]
    }
   ],
   "source": [
    "betrag_versi = dat.Betrag.where(dat.Kategorie == \"Firmenversicherung\")\n",
    "betrag_versi = betrag_versi.to_list()    \n",
    "\n",
    "betrag_versi_cleaned = [x for x in betrag_versi if str(x) != 'nan']\n",
    "\n",
    "\n",
    "for i in range(len(betrag_versi_cleaned)):\n",
    "    betrag_versi_cleaned[i] = betrag_versi_cleaned[i].replace(\",\", \".\")\n",
    "#print(betrag_leasing_cleaned)\n",
    "\n",
    "betrag_versi_cleaned = [float(i) for i in betrag_versi_cleaned]\n",
    "\n",
    "print(sum(betrag_versi_cleaned))\n",
    "b1= sum(betrag_versi_cleaned)\n",
    "\n",
    "##############\n",
    "\n",
    "betrag_leasing = dat.Betrag.where(dat.Kategorie == \"Leasing für Geräte\")\n",
    "betrag_leasing = betrag_leasing.to_list()    \n",
    "\n",
    "betrag_leasing_cleaned = [x for x in betrag_leasing if str(x) != 'nan']\n",
    "\n",
    "\n",
    "for i in range(len(betrag_leasing_cleaned)):\n",
    "    betrag_leasing_cleaned[i] = betrag_leasing_cleaned[i].replace(\",\", \".\")\n",
    "#print(betrag_leasing_cleaned)\n",
    "\n",
    "betrag_leasing_cleaned = [float(i) for i in betrag_leasing_cleaned]\n",
    "\n",
    "print(sum(betrag_leasing_cleaned))\n",
    "b2 = sum(betrag_leasing_cleaned)\n",
    "\n",
    "\n",
    "#############\n",
    "\n",
    "betrag_haft = dat.Betrag.where(dat.Kategorie == \"Betriebshaftpflicht\")\n",
    "betrag_haft = betrag_haft.to_list()    \n",
    "\n",
    "betrag_haft_cleaned = [x for x in betrag_haft if str(x) != 'nan']\n",
    "\n",
    "\n",
    "for i in range(len(betrag_haft_cleaned)):\n",
    "    betrag_haft_cleaned[i] = betrag_haft_cleaned[i].replace(\",\", \".\")\n",
    "#print(betrag_leasing_cleaned)\n",
    "\n",
    "betrag_haft_cleaned = [float(i) for i in betrag_haft_cleaned]\n",
    "\n",
    "print(sum(betrag_haft_cleaned))\n",
    "b3= sum(betrag_haft_cleaned)"
   ]
  },
  {
   "cell_type": "code",
   "execution_count": 94,
   "metadata": {},
   "outputs": [
    {
     "data": {
      "text/html": [
       "<iframe id=\"igraph\" scrolling=\"no\" style=\"border:none;\" seamless=\"seamless\" src=\"https://plot.ly/~bytabo/4.embed\" height=\"525px\" width=\"100%\"></iframe>"
      ],
      "text/plain": [
       "<plotly.tools.PlotlyDisplay object>"
      ]
     },
     "execution_count": 94,
     "metadata": {},
     "output_type": "execute_result"
    }
   ],
   "source": [
    "labels = [\"Firmenversicherung\",\"Leasing für Geräte\",\"Betriebshaftpflicht\"]\n",
    "values = [b1,b2,b3]\n",
    "\n",
    "trace = go.Pie(labels=labels, values=values)\n",
    "\n",
    "py.iplot([trace], filename='basic_pie_chart')"
   ]
  },
  {
   "cell_type": "code",
   "execution_count": null,
   "metadata": {},
   "outputs": [],
   "source": []
  }
 ],
 "metadata": {
  "kernelspec": {
   "display_name": "Python 3",
   "language": "python",
   "name": "python3"
  },
  "language_info": {
   "codemirror_mode": {
    "name": "ipython",
    "version": 3
   },
   "file_extension": ".py",
   "mimetype": "text/x-python",
   "name": "python",
   "nbconvert_exporter": "python",
   "pygments_lexer": "ipython3",
   "version": "3.6.7"
  }
 },
 "nbformat": 4,
 "nbformat_minor": 2
}
